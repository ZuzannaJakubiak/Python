{
 "cells": [
  {
   "cell_type": "code",
   "execution_count": null,
   "id": "2fa34404-2ccf-460f-8009-5286bd324c07",
   "metadata": {},
   "outputs": [],
   "source": [
    "# import libraries\n",
    "\n",
    "from bs4 import BeautifulSoup\n",
    "import requests\n",
    "import smtplib\n",
    "import time\n",
    "import datetime"
   ]
  },
  {
   "cell_type": "code",
   "execution_count": null,
   "id": "ee701d1a-b297-4e85-a4e7-2fb3b509a8eb",
   "metadata": {},
   "outputs": [],
   "source": [
    "# Connect\n",
    "\n",
    "URL = \"https://www.amazon.com/dp/B08FW3M2WT/ref=sspa_dk_detail_2?psc=1&pf_rd_p=7446a9d1-25fe-4460-b135-a60336bad2c9&pf_rd_r=JHBXW8V5AXF2HDK4D54Q&pd_rd_wg=E8K98&pd_rd_w=8lJ7P&content-id=amzn1.sym.7446a9d1-25fe-4460-b135-a60336bad2c9&pd_rd_r=b59c1a94-b590-4332-bb46-11cf5201545c&s=apparel&sp_csd=d2lkZ2V0TmFtZT1zcF9kZXRhaWw\"\n",
    "\n",
    "headers = {\"User-Agent\": \"Mozilla/5.0 (Windows NT 10.0; Win64; x64) AppleWebKit/537.36 (KHTML, like Gecko) Chrome/128.0.0.0 Safari/537.36\", \"Accept-Encoding\":\"gzip, deflate\", \"Accept\":\"text/html,application/xhtml+xml,application/xml;q=0.9,*/*;q=0.8\", \"DNT\":\"1\",\"Connection\":\"close\", \"Upgrade-Insecure-Requests\":\"1\"}\n",
    "\n",
    "page = requests.get(URL, headers = headers)\n",
    "\n",
    "soup1 = BeautifulSoup(page.content, \"html.parser\")\n",
    "\n",
    "soup2 = BeautifulSoup(soup1.prettify(), \"html.parser\")\n",
    "\n",
    "#Title and price\n",
    "\n",
    "title = soup2.find(id = 'productTitle').get_text().strip()\n",
    "price = soup2.find(id = 'corePriceDisplay_desktop_feature_div').get_text().strip()\n",
    "price = price[1:6]\n",
    "print(title)\n",
    "print(price)"
   ]
  },
  {
   "cell_type": "code",
   "execution_count": null,
   "id": "63b9cd8f-8800-4094-b0a5-6b2c16814967",
   "metadata": {},
   "outputs": [],
   "source": [
    "import datetime\n",
    "\n",
    "today = datetime.date.today()\n",
    "\n",
    "today"
   ]
  },
  {
   "cell_type": "code",
   "execution_count": null,
   "id": "fe0a952a-3555-4759-9844-44eecbeb7fab",
   "metadata": {},
   "outputs": [],
   "source": [
    "#Write to csv\n",
    "\n",
    "import csv\n",
    "\n",
    "header = ['Title', 'Price', 'Date']\n",
    "data = [title, price, today]\n",
    "\n",
    "#with open('AmazonWebScrapperDataset.csv', 'w', newline = '', encoding = 'UTF8') as f:\n",
    "    #writer = csv.writer(f)\n",
    "    #writer.writerow(header)\n",
    "    #writer.writerow(data)"
   ]
  },
  {
   "cell_type": "code",
   "execution_count": null,
   "id": "3d4954c8-97b8-4aa6-a14c-891541784a35",
   "metadata": {},
   "outputs": [],
   "source": [
    "import pandas as pd\n",
    "df = pd.read_csv(r\"C:\\Users\\Zuzanna\\Desktop\\Data Analyst\\YT_kurs\\Python\\Web Scrapping Project\\AmazonWebScrapperDataset.csv\")\n",
    "df"
   ]
  },
  {
   "cell_type": "code",
   "execution_count": null,
   "id": "b51b688c-1236-43a2-b63c-b3f578f07211",
   "metadata": {},
   "outputs": [],
   "source": [
    "#Append data to csv\n",
    "\n",
    "with open('AmazonWebScrapperDataset.csv', 'a+', newline = '', encoding = 'UTF8') as f:\n",
    "    writer = csv.writer(f)\n",
    "    writer.writerow(data)"
   ]
  },
  {
   "cell_type": "code",
   "execution_count": null,
   "id": "a99a79fa-c592-432e-9f75-998944a2b87b",
   "metadata": {},
   "outputs": [],
   "source": [
    "def check_price():\n",
    "    URL = \"https://www.amazon.com/dp/B08FW3M2WT/ref=sspa_dk_detail_2?psc=1&pf_rd_p=7446a9d1-25fe-4460-b135-a60336bad2c9&pf_rd_r=JHBXW8V5AXF2HDK4D54Q&pd_rd_wg=E8K98&pd_rd_w=8lJ7P&content-id=amzn1.sym.7446a9d1-25fe-4460-b135-a60336bad2c9&pd_rd_r=b59c1a94-b590-4332-bb46-11cf5201545c&s=apparel&sp_csd=d2lkZ2V0TmFtZT1zcF9kZXRhaWw\"\n",
    "\n",
    "    headers = {\"User-Agent\": \"Mozilla/5.0 (Windows NT 10.0; Win64; x64) AppleWebKit/537.36 (KHTML, like Gecko) Chrome/128.0.0.0 Safari/537.36\", \"Accept-Encoding\":\"gzip, deflate\", \"Accept\":\"text/html,application/xhtml+xml,application/xml;q=0.9,*/*;q=0.8\", \"DNT\":\"1\",\"Connection\":\"close\", \"Upgrade-Insecure-Requests\":\"1\"}\n",
    "    \n",
    "    page = requests.get(URL, headers = headers)\n",
    "    \n",
    "    soup1 = BeautifulSoup(page.content, \"html.parser\")\n",
    "    \n",
    "    soup2 = BeautifulSoup(soup1.prettify(), \"html.parser\")\n",
    "    \n",
    "    #Title and price\n",
    "    \n",
    "    title = soup2.find(id = 'productTitle').get_text().strip()\n",
    "    price = soup2.find(id = 'corePriceDisplay_desktop_feature_div').get_text().strip()\n",
    "    price = price[1:10]\n",
    "    price = price.strip()\n",
    "\n",
    "    import datetime\n",
    "\n",
    "    today = datetime.date.today()\n",
    "\n",
    "    import csv\n",
    "    \n",
    "    header = ['Title', 'Price', 'Date']\n",
    "    data = [title, price, today]\n",
    "\n",
    "    with open('AmazonWebScrapperDataset.csv', 'a+', newline = '', encoding = 'UTF8') as f:\n",
    "        writer = csv.writer(f)\n",
    "        writer.writerow(data)\n"
   ]
  },
  {
   "cell_type": "code",
   "execution_count": null,
   "id": "5d9c381f-6bf8-46af-9f2d-465cd4a7228e",
   "metadata": {},
   "outputs": [],
   "source": [
    "while(True):\n",
    "    check_price()\n",
    "    time.sleep(5)"
   ]
  },
  {
   "cell_type": "code",
   "execution_count": null,
   "id": "1090cf61-a97c-4e9a-969e-cbc8233bc2f6",
   "metadata": {},
   "outputs": [],
   "source": [
    "import pandas as pd\n",
    "df = pd.read_csv(r\".\\AmazonWebScrapperDataset.csv\")\n",
    "df"
   ]
  },
  {
   "cell_type": "code",
   "execution_count": null,
   "id": "7bfeab10-3bfc-4ed6-9f9e-8738d34fc36c",
   "metadata": {},
   "outputs": [],
   "source": []
  }
 ],
 "metadata": {
  "kernelspec": {
   "display_name": "Python 3 (ipykernel)",
   "language": "python",
   "name": "python3"
  },
  "language_info": {
   "codemirror_mode": {
    "name": "ipython",
    "version": 3
   },
   "file_extension": ".py",
   "mimetype": "text/x-python",
   "name": "python",
   "nbconvert_exporter": "python",
   "pygments_lexer": "ipython3",
   "version": "3.12.3"
  }
 },
 "nbformat": 4,
 "nbformat_minor": 5
}
